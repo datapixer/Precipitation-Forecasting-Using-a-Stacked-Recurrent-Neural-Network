{
 "cells": [
  {
   "cell_type": "markdown",
   "metadata": {},
   "source": [
    "#### Instalar las librerias y setear el idioma, para poder descargar las imagenes que tienen los nombres en Ingles, seteaar tambien la zona horaria para la configuracion de las imagenes raster"
   ]
  },
  {
   "cell_type": "code",
   "execution_count": 2,
   "metadata": {},
   "outputs": [
    {
     "name": "stderr",
     "output_type": "stream",
     "text": [
      "Loading required package: sp\n",
      "code for methods in class \"Rcpp_SpExtent\" was not checked for suspicious field assignments (recommended package 'codetools' not available?)\n",
      "code for methods in class \"Rcpp_SpExtent\" was not checked for suspicious field assignments (recommended package 'codetools' not available?)\n",
      "code for methods in class \"Rcpp_SpPoly\" was not checked for suspicious field assignments (recommended package 'codetools' not available?)\n",
      "code for methods in class \"Rcpp_SpPoly\" was not checked for suspicious field assignments (recommended package 'codetools' not available?)\n",
      "code for methods in class \"Rcpp_SpPolyPart\" was not checked for suspicious field assignments (recommended package 'codetools' not available?)\n",
      "code for methods in class \"Rcpp_SpPolyPart\" was not checked for suspicious field assignments (recommended package 'codetools' not available?)\n",
      "code for methods in class \"Rcpp_SpPolygons\" was not checked for suspicious field assignments (recommended package 'codetools' not available?)\n",
      "code for methods in class \"Rcpp_SpPolygons\" was not checked for suspicious field assignments (recommended package 'codetools' not available?)\n",
      "rgeos version: 0.5-5, (SVN revision 640)\n",
      " GEOS runtime version: 3.8.0-CAPI-1.13.1 \n",
      " Linking to sp version: 1.4-2 \n",
      " Polygon checking: TRUE \n",
      "\n",
      "\n",
      "Attaching package: 'lubridate'\n",
      "\n",
      "The following objects are masked from 'package:rgeos':\n",
      "\n",
      "    intersect, setdiff, union\n",
      "\n",
      "The following objects are masked from 'package:raster':\n",
      "\n",
      "    intersect, union\n",
      "\n",
      "The following objects are masked from 'package:base':\n",
      "\n",
      "    date, intersect, setdiff, union\n",
      "\n"
     ]
    },
    {
     "data": {
      "text/html": [
       "'English_United States.1252'"
      ],
      "text/latex": [
       "'English\\_United States.1252'"
      ],
      "text/markdown": [
       "'English_United States.1252'"
      ],
      "text/plain": [
       "[1] \"English_United States.1252\""
      ]
     },
     "metadata": {},
     "output_type": "display_data"
    }
   ],
   "source": [
    "## Intalar las librerias\n",
    "defaultW <- getOption(\"warn\")\n",
    "options(warn = -1)\n",
    "library(RNetCDF)\n",
    "library(raster)\n",
    "library(sp)\n",
    "library(readxl)\n",
    "library(rgeos)\n",
    "library(lubridate)\n",
    "Sys.setlocale(\"LC_TIME\", \"English\") #setear en ingles el idioma\n",
    "Sys.setenv(TZ = \"EST\") #swtear zona horaria"
   ]
  },
  {
   "cell_type": "code",
   "execution_count": 3,
   "metadata": {},
   "outputs": [
    {
     "data": {
      "text/html": [
       "<table>\n",
       "<thead><tr><th scope=col>FECHA</th><th scope=col>RR</th></tr></thead>\n",
       "<tbody>\n",
       "\t<tr><td>1915-01-01</td><td>436.1     </td></tr>\n",
       "\t<tr><td>1915-02-01</td><td>425.4     </td></tr>\n",
       "\t<tr><td>1915-03-01</td><td>366.2     </td></tr>\n",
       "\t<tr><td>1915-04-01</td><td>108.5     </td></tr>\n",
       "\t<tr><td>1915-05-01</td><td>113.4     </td></tr>\n",
       "\t<tr><td>1915-06-01</td><td> 37.6     </td></tr>\n",
       "</tbody>\n",
       "</table>\n"
      ],
      "text/latex": [
       "\\begin{tabular}{r|ll}\n",
       " FECHA & RR\\\\\n",
       "\\hline\n",
       "\t 1915-01-01 & 436.1     \\\\\n",
       "\t 1915-02-01 & 425.4     \\\\\n",
       "\t 1915-03-01 & 366.2     \\\\\n",
       "\t 1915-04-01 & 108.5     \\\\\n",
       "\t 1915-05-01 & 113.4     \\\\\n",
       "\t 1915-06-01 &  37.6     \\\\\n",
       "\\end{tabular}\n"
      ],
      "text/markdown": [
       "\n",
       "| FECHA | RR |\n",
       "|---|---|\n",
       "| 1915-01-01 | 436.1      |\n",
       "| 1915-02-01 | 425.4      |\n",
       "| 1915-03-01 | 366.2      |\n",
       "| 1915-04-01 | 108.5      |\n",
       "| 1915-05-01 | 113.4      |\n",
       "| 1915-06-01 |  37.6      |\n",
       "\n"
      ],
      "text/plain": [
       "  FECHA      RR   \n",
       "1 1915-01-01 436.1\n",
       "2 1915-02-01 425.4\n",
       "3 1915-03-01 366.2\n",
       "4 1915-04-01 108.5\n",
       "5 1915-05-01 113.4\n",
       "6 1915-06-01  37.6"
      ]
     },
     "metadata": {},
     "output_type": "display_data"
    }
   ],
   "source": [
    "#Abrir Datos actualizados - Julio 2021\n",
    "BASE = read_excel(\"BASE.xlsx\")\n",
    "head(BASE)"
   ]
  },
  {
   "cell_type": "code",
   "execution_count": 4,
   "metadata": {},
   "outputs": [],
   "source": [
    "mes = month(max(BASE$FECHA,na.rm = T),label = T,abbr = T)\n",
    "anio = year(max(BASE$FECHA,na.rm = T))"
   ]
  },
  {
   "cell_type": "code",
   "execution_count": 5,
   "metadata": {},
   "outputs": [
    {
     "data": {
      "image/png": "[encoded data removed]",
      "text/plain": [
       "Plot with title \"Precipitaciones Mensuales en Guayaquil 1915-01-01 a 2021-07-01\""
      ]
     },
     "metadata": {},
     "output_type": "display_data"
    }
   ],
   "source": [
    "plot(BASE$FECHA,BASE$RR,type=\"l\", main=\"Precipitaciones Mensuales en Guayaquil 1915-01-01 a 2021-07-01\",xlab=\"\",ylab=\"mm\")"
   ]
  },
  {
   "cell_type": "markdown",
   "metadata": {},
   "source": [
    "#### Ahora vamos a descargar la Data de Temperatura Superficial del Mar de la NOAA\n",
    "#### Link = https://iridl.ldeo.columbia.edu/SOURCES/.NOAA/.NCDC/.ERSST/.version5/.sst/Y/%2830S%29%2830N%29RANGEEDGES/X/%28160W%29%2860W%29RANGEEDGES/T/%28Jan%201915%29%28Jul%202021%29RANGEEDGES/datafiles.html"
   ]
  },
  {
   "cell_type": "code",
   "execution_count": 6,
   "metadata": {},
   "outputs": [],
   "source": [
    "#Descargar Archivo Netcdf\n",
    "fname = paste0(\"https://iridl.ldeo.columbia.edu/SOURCES/.NOAA/.NCDC/.ERSST/.version5/.sst/Y/%2830S%29%2830N%29RANGEEDGES/X/%28160W%29%2860W%29RANGEEDGES/T/%28Jan%201915%29%28\",mes,\"%20\",anio,\"%29RANGEEDGES/data.nc\")\n",
    "download.file(fname,destfile = \"data.nc\", mode = 'wb')"
   ]
  },
  {
   "cell_type": "markdown",
   "metadata": {},
   "source": [
    "#### Formatiamos las imagenes con sus limites utilizados en el corte, 160W a 60W en longitud, 30S a 30N en latitud"
   ]
  },
  {
   "cell_type": "code",
   "execution_count": 7,
   "metadata": {},
   "outputs": [],
   "source": [
    "#ERSST version 5 (160W to 60W,30S to 30N), resolucion 1 Grado, 100 km\n",
    "SST=RNetCDF::read.nc(RNetCDF::open.nc(\"data.nc\"))\n",
    "#Que empieza en -180\n",
    "SST$X=SST$X-180\n",
    "#funcion para rotar una matriz\n",
    "rot=function(x) t(apply(x,2,rev))\n",
    "SSTF=lapply(1:dim(SST$sst)[3],function(i)  raster(rot(rot(rot(SST$sst[,,i])))))"
   ]
  },
  {
   "cell_type": "code",
   "execution_count": 8,
   "metadata": {},
   "outputs": [
    {
     "data": {
      "image/png": "[encoded data removed]",
      "text/plain": [
       "Plot with title \"Sea Surface Temperature - January 1915\""
      ]
     },
     "metadata": {},
     "output_type": "display_data"
    }
   ],
   "source": [
    "plot(SSTF[[1]], main = \"Sea Surface Temperature - January 1915\")"
   ]
  },
  {
   "cell_type": "code",
   "execution_count": 9,
   "metadata": {},
   "outputs": [],
   "source": [
    "# Variable Tiempo para la serie de Tiempo\n",
    "Tiempo=as.character(seq(as.Date(\"1915-01-01\"),by = \"month\", len=nrow(BASE)))"
   ]
  },
  {
   "cell_type": "code",
   "execution_count": 10,
   "metadata": {},
   "outputs": [
    {
     "data": {
      "text/html": [
       "<ol class=list-inline>\n",
       "\t<li>'1915-01-01'</li>\n",
       "\t<li>'1915-02-01'</li>\n",
       "\t<li>'1915-03-01'</li>\n",
       "\t<li>'1915-04-01'</li>\n",
       "\t<li>'1915-05-01'</li>\n",
       "\t<li>'1915-06-01'</li>\n",
       "</ol>\n"
      ],
      "text/latex": [
       "\\begin{enumerate*}\n",
       "\\item '1915-01-01'\n",
       "\\item '1915-02-01'\n",
       "\\item '1915-03-01'\n",
       "\\item '1915-04-01'\n",
       "\\item '1915-05-01'\n",
       "\\item '1915-06-01'\n",
       "\\end{enumerate*}\n"
      ],
      "text/markdown": [
       "1. '1915-01-01'\n",
       "2. '1915-02-01'\n",
       "3. '1915-03-01'\n",
       "4. '1915-04-01'\n",
       "5. '1915-05-01'\n",
       "6. '1915-06-01'\n",
       "\n",
       "\n"
      ],
      "text/plain": [
       "[1] \"1915-01-01\" \"1915-02-01\" \"1915-03-01\" \"1915-04-01\" \"1915-05-01\"\n",
       "[6] \"1915-06-01\""
      ]
     },
     "metadata": {},
     "output_type": "display_data"
    }
   ],
   "source": [
    "head(Tiempo)"
   ]
  },
  {
   "cell_type": "markdown",
   "metadata": {},
   "source": [
    "#### Le damos la respectiva proyección a cada imagen, y la extensión para ajustar a su resolución normal"
   ]
  },
  {
   "cell_type": "code",
   "execution_count": 11,
   "metadata": {},
   "outputs": [],
   "source": [
    "n=dim(SST$sst)[3]\n",
    "for(i in 1:n)\n",
    "{\n",
    "  extent(SSTF[[i]])=extent(min(SST$X),max(SST$X),min(SST$Y),max(SST$Y))\n",
    "  proj4string(SSTF[[i]])=CRS(\"+proj=longlat +datum=WGS84 +ellps=WGS84 +towgs84=0,0,0\")\n",
    "  names(SSTF[[i]])=paste0(\"SST\",Tiempo[i],sep=\"_\")\n",
    "}"
   ]
  },
  {
   "cell_type": "markdown",
   "metadata": {},
   "source": [
    "#### Vamos a crear imagenes con el valor de cada Precipitación, en una imagen de la misma resolucion de las Temperaturas Superfical del Mar, para sacar el mapa de correlación espacial, y conocer el poligono con la correlacion espacial mas significativas a las RR "
   ]
  },
  {
   "cell_type": "code",
   "execution_count": 12,
   "metadata": {},
   "outputs": [],
   "source": [
    "RR=BASE$RR\n",
    "#Se reemplaza cada valor de la matriz por cada valor de precipitacion\n",
    "MA=SSTF\n",
    "for(i in 1:n) MA[[i]][!is.na(MA[[i]])]=RR[i]"
   ]
  },
  {
   "cell_type": "markdown",
   "metadata": {},
   "source": [
    "#### Función que me permite sacar la correlacion espacial entre la Precipitacion y las Temperaturas Superficial del Mar"
   ]
  },
  {
   "cell_type": "code",
   "execution_count": 13,
   "metadata": {},
   "outputs": [],
   "source": [
    "#Para conocer la correlacion espacial observada\n",
    "ccf_raster=function(x,y)\n",
    "{\n",
    "  I=dim(x[[1]])[1]\n",
    "  J=dim(x[[1]])[2]\n",
    "  N=length(x)\n",
    "  X=array(c(sapply(1:N, function(i) as.matrix(x[[i]]))), dim = c(I,J,N))\n",
    "  Y=array(c(sapply(1:N, function(i) as.matrix(y[[i]]))), dim = c(I,J,N))\n",
    "  COR=raster(t(sapply(1:I, function(i) sapply(1:J, function(j) cor(x=X[i,j,],y=Y[i,j,])))))\n",
    "  extent(COR)=extent(x[[1]])\n",
    "  proj4string(COR)=CRS(\"+proj=longlat +datum=WGS84 +ellps=WGS84 +towgs84=0,0,0\")\n",
    "  return(COR)\n",
    "}\n"
   ]
  },
  {
   "cell_type": "markdown",
   "metadata": {},
   "source": [
    "#### A continuación dibujaremos una linea de contorno con la correlacion mayor a 0.7, ese sera el area que utilizaremos para cortar las imagenes"
   ]
  },
  {
   "cell_type": "code",
   "execution_count": 14,
   "metadata": {},
   "outputs": [
    {
     "data": {
      "image/png": "[encoded data removed]",
      "text/plain": [
       "Plot with title \"Area de Corte, representa Correlación de 0.7\""
      ]
     },
     "metadata": {},
     "output_type": "display_data"
    }
   ],
   "source": [
    "COR=ccf_raster(SSTF[(1:n)],MA[(1:n)])\n",
    "#0.7 representa la correlacion en donde la isolinea es mayor, osea la mayor correlacion con el poligono\n",
    "CORMAYOR=rasterToPolygons(COR,fun = function(x) x >= 0.7)\n",
    "PCORMAYOR=gUnaryUnion(CORMAYOR)\n",
    "#Ahora grafico la isolinea con correlacion 0.7\n",
    "plot(COR, main = \"Area de Corte, representa Correlación de 0.7\")\n",
    "contour(COR, levels=round(quantile(COR,c(0.05,0.95)),2),labcex = 1, col=c(\"#990000\",\"blue\"),add=TRUE,lwd=2)\n",
    "lines(PCORMAYOR,col=\"green\")"
   ]
  },
  {
   "cell_type": "markdown",
   "metadata": {},
   "source": [
    "#### Ahora cortamos las imagenes con esa isolinea, y promediamos todos los pixeles dentro, tendremos 1 valor de Temperatura Superficial del Mar por mes desde 1915 hasta 2021"
   ]
  },
  {
   "cell_type": "code",
   "execution_count": 15,
   "metadata": {},
   "outputs": [
    {
     "data": {
      "text/html": [
       "0.74589284199993"
      ],
      "text/latex": [
       "0.74589284199993"
      ],
      "text/markdown": [
       "0.74589284199993"
      ],
      "text/plain": [
       "[1] 0.7458928"
      ]
     },
     "metadata": {},
     "output_type": "display_data"
    }
   ],
   "source": [
    "#Ahora cortamos esa zona con el poligono con mayor correlacion\n",
    "SSTS = do.call(c,lapply(1:n, function(x) mean(as.matrix(mask(crop(SSTF[[x]],PCORMAYOR),PCORMAYOR)),na.rm=T)))\n",
    "#Veamos la correlaacion entre la serie de Tiempo SST y RR\n",
    "cor(RR,SSTS)"
   ]
  },
  {
   "cell_type": "markdown",
   "metadata": {},
   "source": [
    "#### Por ultimo guardamos el archivo en un Libro de Excel que utilizaremos en Pyton"
   ]
  },
  {
   "cell_type": "code",
   "execution_count": 17,
   "metadata": {},
   "outputs": [],
   "source": [
    "#Vamos a Guardar todo en un solo archivo\n",
    "BASE=data.frame(Fecha=Tiempo,RR=RR,SST=SSTS)\n",
    "writexl::write_xlsx(BASE,\"DATA.xlsx\",col_names = T)"
   ]
  },
  {
   "cell_type": "code",
   "execution_count": 18,
   "metadata": {},
   "outputs": [
    {
     "data": {
      "text/html": [
       "<table>\n",
       "<thead><tr><th scope=col>Fecha</th><th scope=col>RR</th><th scope=col>SST</th></tr></thead>\n",
       "<tbody>\n",
       "\t<tr><td>1915-01-01</td><td>436.1     </td><td>23.81849  </td></tr>\n",
       "\t<tr><td>1915-02-01</td><td>425.4     </td><td>25.05968  </td></tr>\n",
       "\t<tr><td>1915-03-01</td><td>366.2     </td><td>24.50934  </td></tr>\n",
       "\t<tr><td>1915-04-01</td><td>108.5     </td><td>23.40319  </td></tr>\n",
       "\t<tr><td>1915-05-01</td><td>113.4     </td><td>21.27035  </td></tr>\n",
       "\t<tr><td>1915-06-01</td><td> 37.6     </td><td>21.02337  </td></tr>\n",
       "</tbody>\n",
       "</table>\n"
      ],
      "text/latex": [
       "\\begin{tabular}{r|lll}\n",
       " Fecha & RR & SST\\\\\n",
       "\\hline\n",
       "\t 1915-01-01 & 436.1      & 23.81849  \\\\\n",
       "\t 1915-02-01 & 425.4      & 25.05968  \\\\\n",
       "\t 1915-03-01 & 366.2      & 24.50934  \\\\\n",
       "\t 1915-04-01 & 108.5      & 23.40319  \\\\\n",
       "\t 1915-05-01 & 113.4      & 21.27035  \\\\\n",
       "\t 1915-06-01 &  37.6      & 21.02337  \\\\\n",
       "\\end{tabular}\n"
      ],
      "text/markdown": [
       "\n",
       "| Fecha | RR | SST |\n",
       "|---|---|---|\n",
       "| 1915-01-01 | 436.1      | 23.81849   |\n",
       "| 1915-02-01 | 425.4      | 25.05968   |\n",
       "| 1915-03-01 | 366.2      | 24.50934   |\n",
       "| 1915-04-01 | 108.5      | 23.40319   |\n",
       "| 1915-05-01 | 113.4      | 21.27035   |\n",
       "| 1915-06-01 |  37.6      | 21.02337   |\n",
       "\n"
      ],
      "text/plain": [
       "  Fecha      RR    SST     \n",
       "1 1915-01-01 436.1 23.81849\n",
       "2 1915-02-01 425.4 25.05968\n",
       "3 1915-03-01 366.2 24.50934\n",
       "4 1915-04-01 108.5 23.40319\n",
       "5 1915-05-01 113.4 21.27035\n",
       "6 1915-06-01  37.6 21.02337"
      ]
     },
     "metadata": {},
     "output_type": "display_data"
    }
   ],
   "source": [
    "head(BASE)"
   ]
  },
  {
   "cell_type": "markdown",
   "metadata": {},
   "source": [
    "#### Referencias"
   ]
  },
  {
   "cell_type": "markdown",
   "metadata": {},
   "source": [
    "#### Huang, B., P. W. Thorne, V. F. Banzon, T. Boyer, G. Chepurin, J. H. Lawrimore, M. J. Menne, T. M. Smith, R. S. Vose, and H.-M. Zhang, 2017: Extended Reconstructed Sea Surface Temperature, version 5 (ERSSTv5): Upgrades, validations, and intercomparisons. J. Climate, 30, 8179-8205, doi:10.1175/JCLI-D-16-0836.1.\n",
    "\n",
    "#### https://iridl.ldeo.columbia.edu/SOURCES/.NOAA/.NCDC/.ERSST/.version5/"
   ]
  },
  {
   "cell_type": "code",
   "execution_count": null,
   "metadata": {},
   "outputs": [],
   "source": []
  }
 ],
 "metadata": {
  "kernelspec": {
   "display_name": "R",
   "language": "R",
   "name": "ir"
  },
  "language_info": {
   "codemirror_mode": "r",
   "file_extension": ".r",
   "mimetype": "text/x-r-source",
   "name": "R",
   "pygments_lexer": "r",
   "version": "3.6.1"
  }
 },
 "nbformat": 4,
 "nbformat_minor": 4
}
