{
 "cells": [
  {
   "cell_type": "markdown",
   "metadata": {},
   "source": [
    "#### Empezamos cargando las Librerias"
   ]
  },
  {
   "cell_type": "code",
   "execution_count": 9,
   "metadata": {},
   "outputs": [],
   "source": [
    "from keras.models import Sequential\n",
    "from keras.layers import Dense, Dropout, SimpleRNN\n",
    "import pandas as pd\n",
    "import numpy as np\n",
    "import statsmodels.api as sm\n",
    "from sklearn.metrics import mean_squared_error\n",
    "import datetime\n",
    "from dateutil.rrule import rrule, MONTHLY\n",
    "from dateutil.relativedelta import relativedelta\n",
    "from keras.layers import BatchNormalization\n",
    "import tensorflow as tf"
   ]
  },
  {
   "cell_type": "markdown",
   "metadata": {},
   "source": [
    "#### Abrimos la data con las variables de Precipitación (RR) y Temperatura Superficial del Mar (SST)"
   ]
  },
  {
   "cell_type": "code",
   "execution_count": 10,
   "metadata": {},
   "outputs": [],
   "source": [
    "BASE = pd.read_excel('DATA.xlsx', engine='openpyxl')\n",
    "BASE.Fecha = pd.to_datetime(BASE.Fecha)\n",
    "BASE  = BASE.set_index('Fecha')"
   ]
  },
  {
   "cell_type": "code",
   "execution_count": 11,
   "metadata": {},
   "outputs": [
    {
     "data": {
      "text/html": [
       "<div>\n",
       "<style scoped>\n",
       "    .dataframe tbody tr th:only-of-type {\n",
       "        vertical-align: middle;\n",
       "    }\n",
       "\n",
       "    .dataframe tbody tr th {\n",
       "        vertical-align: top;\n",
       "    }\n",
       "\n",
       "    .dataframe thead th {\n",
       "        text-align: right;\n",
       "    }\n",
       "</style>\n",
       "<table border=\"1\" class=\"dataframe\">\n",
       "  <thead>\n",
       "    <tr style=\"text-align: right;\">\n",
       "      <th></th>\n",
       "      <th>RR</th>\n",
       "      <th>SST</th>\n",
       "    </tr>\n",
       "  </thead>\n",
       "  <tbody>\n",
       "    <tr>\n",
       "      <th>count</th>\n",
       "      <td>1279.000000</td>\n",
       "      <td>1279.000000</td>\n",
       "    </tr>\n",
       "    <tr>\n",
       "      <th>mean</th>\n",
       "      <td>95.072150</td>\n",
       "      <td>21.291413</td>\n",
       "    </tr>\n",
       "    <tr>\n",
       "      <th>std</th>\n",
       "      <td>154.966247</td>\n",
       "      <td>2.303559</td>\n",
       "    </tr>\n",
       "    <tr>\n",
       "      <th>min</th>\n",
       "      <td>0.000000</td>\n",
       "      <td>16.677064</td>\n",
       "    </tr>\n",
       "    <tr>\n",
       "      <th>25%</th>\n",
       "      <td>0.000000</td>\n",
       "      <td>19.361422</td>\n",
       "    </tr>\n",
       "    <tr>\n",
       "      <th>50%</th>\n",
       "      <td>5.700000</td>\n",
       "      <td>20.959375</td>\n",
       "    </tr>\n",
       "    <tr>\n",
       "      <th>75%</th>\n",
       "      <td>145.400000</td>\n",
       "      <td>23.254537</td>\n",
       "    </tr>\n",
       "    <tr>\n",
       "      <th>max</th>\n",
       "      <td>1124.000000</td>\n",
       "      <td>28.074939</td>\n",
       "    </tr>\n",
       "  </tbody>\n",
       "</table>\n",
       "</div>"
      ],
      "text/plain": [
       "                RR          SST\n",
       "count  1279.000000  1279.000000\n",
       "mean     95.072150    21.291413\n",
       "std     154.966247     2.303559\n",
       "min       0.000000    16.677064\n",
       "25%       0.000000    19.361422\n",
       "50%       5.700000    20.959375\n",
       "75%     145.400000    23.254537\n",
       "max    1124.000000    28.074939"
      ]
     },
     "execution_count": 11,
     "metadata": {},
     "output_type": "execute_result"
    }
   ],
   "source": [
    "BASE.describe()"
   ]
  },
  {
   "cell_type": "markdown",
   "metadata": {},
   "source": [
    "#### Creamos el set de datos con las variables de SST desfasadas 12 meses incluida la SST sin desfase, perdemos el primer año que es el 1915."
   ]
  },
  {
   "cell_type": "code",
   "execution_count": 12,
   "metadata": {},
   "outputs": [
    {
     "data": {
      "text/plain": [
       "<bound method NDFrame.head of                    Xt       Xt-1       Xt-2       Xt-3       Xt-4       Xt-5  \\\n",
       "Fecha                                                                          \n",
       "1916-01-01  21.053894  19.707229  18.287647  18.569966  18.572922  19.462845   \n",
       "1916-02-01  22.599465  21.053894  19.707229  18.287647  18.569966  18.572922   \n",
       "1916-03-01  23.110899  22.599465  21.053894  19.707229  18.287647  18.569966   \n",
       "1916-04-01  21.392558  23.110899  22.599465  21.053894  19.707229  18.287647   \n",
       "1916-05-01  19.818617  21.392558  23.110899  22.599465  21.053894  19.707229   \n",
       "...               ...        ...        ...        ...        ...        ...   \n",
       "2021-03-01  23.945781  23.944501  22.324693  20.825978  19.380769  18.574843   \n",
       "2021-04-01  22.374807  23.945781  23.944501  22.324693  20.825978  19.380769   \n",
       "2021-05-01  21.562235  22.374807  23.945781  23.944501  22.324693  20.825978   \n",
       "2021-06-01  20.821750  21.562235  22.374807  23.945781  23.944501  22.324693   \n",
       "2021-07-01  19.908289  20.821750  21.562235  22.374807  23.945781  23.944501   \n",
       "\n",
       "                 Xt-6       Xt-7       Xt-8       Xt-9      Xt-10      Xt-11  \\\n",
       "Fecha                                                                          \n",
       "1916-01-01  20.583568  21.023367  21.270353  23.403187  24.509335  25.059683   \n",
       "1916-02-01  19.462845  20.583568  21.023367  21.270353  23.403187  24.509335   \n",
       "1916-03-01  18.572922  19.462845  20.583568  21.023367  21.270353  23.403187   \n",
       "1916-04-01  18.569966  18.572922  19.462845  20.583568  21.023367  21.270353   \n",
       "1916-05-01  18.287647  18.569966  18.572922  19.462845  20.583568  21.023367   \n",
       "...               ...        ...        ...        ...        ...        ...   \n",
       "2021-03-01  17.982353  18.266366  18.712703  20.484317  22.138791  23.945520   \n",
       "2021-04-01  18.574843  17.982353  18.266366  18.712703  20.484317  22.138791   \n",
       "2021-05-01  19.380769  18.574843  17.982353  18.266366  18.712703  20.484317   \n",
       "2021-06-01  20.825978  19.380769  18.574843  17.982353  18.266366  18.712703   \n",
       "2021-07-01  22.324693  20.825978  19.380769  18.574843  17.982353  18.266366   \n",
       "\n",
       "                Xt-12  \n",
       "Fecha                  \n",
       "1916-01-01  23.818490  \n",
       "1916-02-01  25.059683  \n",
       "1916-03-01  24.509335  \n",
       "1916-04-01  23.403187  \n",
       "1916-05-01  21.270353  \n",
       "...               ...  \n",
       "2021-03-01  25.084215  \n",
       "2021-04-01  23.945520  \n",
       "2021-05-01  22.138791  \n",
       "2021-06-01  20.484317  \n",
       "2021-07-01  18.712703  \n",
       "\n",
       "[1267 rows x 13 columns]>"
      ]
     },
     "execution_count": 12,
     "metadata": {},
     "output_type": "execute_result"
    }
   ],
   "source": [
    "S = pd.DataFrame(BASE.SST)\n",
    "S = S.rename(columns={'SST': \"Xt\"})\n",
    "S['Xt-1'] = BASE.SST.shift(1)\n",
    "S['Xt-2'] = BASE.SST.shift(2)\n",
    "S['Xt-3'] = BASE.SST.shift(3)\n",
    "S['Xt-4'] = BASE.SST.shift(4)\n",
    "S['Xt-5'] = BASE.SST.shift(5)\n",
    "S['Xt-6'] = BASE.SST.shift(6)\n",
    "S['Xt-7'] = BASE.SST.shift(7)\n",
    "S['Xt-8'] = BASE.SST.shift(8)\n",
    "S['Xt-9'] = BASE.SST.shift(9)\n",
    "S['Xt-10'] = BASE.SST.shift(10)\n",
    "S['Xt-11'] = BASE.SST.shift(11)\n",
    "S['Xt-12'] = BASE.SST.shift(12)\n",
    "S = S.dropna()\n",
    "S.head"
   ]
  },
  {
   "cell_type": "markdown",
   "metadata": {},
   "source": [
    "#### Definimos el periodo de entrenamiento desde 1916 hasta 2019, y el periodo de prueba 2020 hasta 2021, recordar que necesita el modelo un objeto de dimension 3:\n",
    "\n",
    "* Dimension 1: El numero de observaciones que tienes\n",
    "* Dimension 2: El numero de pasos en el tiempo, solo dimos 1 paso por variable\n",
    "* Dimension 3: El numero de variables, tenemos 12 entradas\n",
    "\n",
    "#### El modelo RNN requiere datos de entrada tridimensionales, por tanto rescalamos las dimensiones de entradas."
   ]
  },
  {
   "cell_type": "code",
   "execution_count": 29,
   "metadata": {},
   "outputs": [],
   "source": [
    "Y_TRAIN = np.array(BASE[(BASE.index <= '2019-12-01') & (BASE.index  >= min(S.index))][\"RR\"])\n",
    "X_TRAIN = np.array(S[S.index <= '2019-12-01'].drop(\"Xt\", axis=1))\n",
    "X_TRAIN = X_TRAIN.reshape(len(X_TRAIN), 1, X_TRAIN.shape[1])\n",
    "\n",
    "Y_TEST  = np.array(BASE[BASE.index > '2019-12-01'][\"RR\"])\n",
    "X_TEST  = np.array(S[S.index > '2019-12-01'].drop(\"Xt\", axis=1))\n",
    "X_TEST  = X_TEST.reshape(len(X_TEST), 1, X_TEST.shape[1])"
   ]
  },
  {
   "cell_type": "markdown",
   "metadata": {},
   "source": [
    "#### Definimos la arquitectura del modelo:\n",
    "* Un modelo de 2 capas recurrentes apiladas, cada una con 128 celdas de memoria, obteniendo una Red Neuronal profunda enrolada a través del tiempo.\n",
    "* De forma predeterminada, las capas recurrentes en Keras solo devuelven el resultado final. Para que devuelvan una salida por paso de tiempo, debe configurar return_sequences = True\n",
    "* La forma del tamaño del modelo es una tupla de tamaño 2, 1 paso de tiempo sucesivo para las 12 variables de entrada desfasadas\n",
    "* Función de activación Relu, para un RNN simple con series de tiempo cortas, no debería haber nada malo en trabajar con la activación de ReLU, abordando la posibilidad de desvanecimiento del gradiente durante el entrenamiento.\n",
    "* Sería preferible reemplazar la capa de salida con una capa Densa, se ejecutaría un poco más rápido, la precisión sería aproximadamente la misma y nos permitiría elegir cualquier remover return_sequence = True de la segunda capa recurrente.\n",
    "* Agregamos 4 capas ocultas, con 64 neuronas la primera, 32 la segunda, 16 la tercera, y 1 neurona la última. La última solo estudiara 1 salida para el pronóstico. \n",
    "* Agregamos el método dropout para desactivar el 90% de las neuronas hasta la penúltima capa densa que solo tiene 16, ayudando a reducir el overfitting, para perder la dependencia entre los patrones encontrados por las neuronas cercanas.\n",
    "* Agregamos el método de normalización, para evitar que existan distancias muy diferentes entre el modelo y el observado. Transforma los predictores para que estén aproximadamente en la misma escala. BatchNormalization después de nuestra primer cada Densa tomara lo aprendido en la primera capa oculta.\n",
    "* El modelo se ajusta con el error cuadrático medio, el descenso del gradiente se compila con el algoritmo Adam, para mantener los pesos a una tasa de aprendizaje única, sin cambiar la tasa de aprendizaje en el proceso de entrenamiento, Adam diseña tasa de aprendizaje adaptativos independientes para los diferentes parámetros.\n",
    "* La última capa densa con una salida lineal, se compila con la función de costo que se encarga de cuantificar la distancia entre el valor real y el valor predicho por la red a través del error cuadrático medio, con un loss = mse, para ajustar una perdida decreciente y una precisión en aumento.\n",
    "* 100 épocas, es el número de veces que el modelo ve cada ejemplo de entrenamiento, y un 20 % de porcentajes de las muestras que el modelo usa en cada iteración para comprobar los resultados en lo entrenado.\n",
    "* Fijamos una semilla para poder tener el mismo resultado calibrado cuando pasemos a producción."
   ]
  },
  {
   "cell_type": "code",
   "execution_count": 14,
   "metadata": {},
   "outputs": [
    {
     "data": {
      "text/plain": [
       "<keras.callbacks.History at 0x2167af92400>"
      ]
     },
     "execution_count": 14,
     "metadata": {},
     "output_type": "execute_result"
    }
   ],
   "source": [
    "tf.random.set_seed(-13741.1)\n",
    "model = Sequential()\n",
    "model.add(SimpleRNN(128, return_sequences=True, input_shape = (X_TRAIN.shape[1:])))\n",
    "model.add(SimpleRNN(128, activation = 'relu'))\n",
    "model.add(Dropout(0.1))\n",
    "model.add(Dense(64, activation = 'relu'))\n",
    "model.add(BatchNormalization())\n",
    "model.add(Dropout(0.1))\n",
    "model.add(Dense(32, activation = 'relu'))\n",
    "model.add(BatchNormalization())\n",
    "model.add(Dropout(0.1))\n",
    "model.add(Dense(16, activation = 'relu'))\n",
    "model.add(Dense(1, activation = 'linear'))\n",
    "model.compile(loss = 'mse',optimizer = 'adam')\n",
    "model.fit(X_TRAIN, Y_TRAIN, epochs=100,batch_size = 100, verbose=False)"
   ]
  },
  {
   "cell_type": "code",
   "execution_count": 17,
   "metadata": {},
   "outputs": [
    {
     "data": {
      "text/plain": [
       "<AxesSubplot:xlabel='Fecha'>"
      ]
     },
     "execution_count": 17,
     "metadata": {},
     "output_type": "execute_result"
    },
    {
     "data": {
      "image/png": "[encoded data removed]",
      "text/plain": [
       "<Figure size 432x288 with 1 Axes>"
      ]
     },
     "metadata": {
      "needs_background": "light"
     },
     "output_type": "display_data"
    }
   ],
   "source": [
    "n_features = X_TRAIN.shape[2]\n",
    "TRAIN = pd.DataFrame(BASE.iloc[n_features:(X_TRAIN.shape[0]+n_features)]['RR'])\n",
    "TRAIN[\"Model\"] = model.predict(X_TRAIN)\n",
    "TRAIN.plot.line()"
   ]
  },
  {
   "cell_type": "code",
   "execution_count": 19,
   "metadata": {},
   "outputs": [
    {
     "name": "stdout",
     "output_type": "stream",
     "text": [
      "Coeficiente de Determinación Training: 0.7\n"
     ]
    }
   ],
   "source": [
    "print('Coeficiente de Determinación Training:',round(sm.OLS(TRAIN['RR'], TRAIN['Model']).fit().rsquared_adj,2))"
   ]
  },
  {
   "cell_type": "code",
   "execution_count": 23,
   "metadata": {},
   "outputs": [
    {
     "name": "stdout",
     "output_type": "stream",
     "text": [
      "Error Cuadrático Medio Training:  99.0\n"
     ]
    }
   ],
   "source": [
    "print('Raiz del Error Cuadrático Medio Training: ',round(np.sqrt(mean_squared_error(TRAIN['RR'], TRAIN['Model'])),0))"
   ]
  },
  {
   "cell_type": "code",
   "execution_count": 24,
   "metadata": {},
   "outputs": [
    {
     "data": {
      "text/plain": [
       "<AxesSubplot:xlabel='Fecha'>"
      ]
     },
     "execution_count": 24,
     "metadata": {},
     "output_type": "execute_result"
    },
    {
     "data": {
      "image/png": "[encoded data removed]",
      "text/plain": [
       "<Figure size 432x288 with 1 Axes>"
      ]
     },
     "metadata": {
      "needs_background": "light"
     },
     "output_type": "display_data"
    }
   ],
   "source": [
    "TEST = pd.DataFrame(BASE.iloc[(X_TRAIN.shape[0]+12):BASE.shape[0]]['RR'])\n",
    "TEST[\"Pred\"] = model.predict(X_TEST)\n",
    "TEST.plot.line()"
   ]
  },
  {
   "cell_type": "code",
   "execution_count": 26,
   "metadata": {},
   "outputs": [
    {
     "name": "stdout",
     "output_type": "stream",
     "text": [
      "Coeficiente de Determinación Testing:  0.8\n"
     ]
    }
   ],
   "source": [
    "print('Coeficiente de Determinación Testing: ', round(sm.OLS(TEST['RR'], TEST['Pred']).fit().rsquared_adj,2))"
   ]
  },
  {
   "cell_type": "code",
   "execution_count": 28,
   "metadata": {},
   "outputs": [
    {
     "name": "stdout",
     "output_type": "stream",
     "text": [
      "Raiz del Error Cuadrático Medio Testing:  67.0\n"
     ]
    }
   ],
   "source": [
    "print('Raiz del Error Cuadrático Medio Testing: ',round(np.sqrt(mean_squared_error(TEST['RR'], TEST['Pred'])),0))"
   ]
  },
  {
   "cell_type": "markdown",
   "metadata": {},
   "source": [
    "#### Referencias\n",
    "\n",
    "Aurélien Géron, 2019.Hands-On Machine Learning with Scikit-Learn, Keras, and TensorFlow: Concepts, Tools, and Techniques to Build Intelligent Systems 2nd Edición.\n",
    "\n",
    "Jason Brownlee, 2016. Machine Learning Mastery with Python, understand your data, Create Accurate Models and Work Projects end-to-end.\n",
    "\n",
    "\n",
    "Tutoriales:\n",
    " * Link: https://www.freecodecamp.org/news/the-ultimate-guide-to-recurrent-neural-networks-in-python/\n",
    " * Link: https://machinelearningmastery.com/time-series-prediction-lstm-recurrent-neural-networks-python-keras/"
   ]
  }
 ],
 "metadata": {
  "kernelspec": {
   "display_name": "Python 3",
   "language": "python",
   "name": "python3"
  },
  "language_info": {
   "codemirror_mode": {
    "name": "ipython",
    "version": 3
   },
   "file_extension": ".py",
   "mimetype": "text/x-python",
   "name": "python",
   "nbconvert_exporter": "python",
   "pygments_lexer": "ipython3",
   "version": "3.8.5"
  }
 },
 "nbformat": 4,
 "nbformat_minor": 4
}
