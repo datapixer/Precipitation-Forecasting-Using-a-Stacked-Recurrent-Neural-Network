{
 "cells": [
  {
   "cell_type": "markdown",
   "metadata": {},
   "source": [
    "#### Empezamos cargando las Librerias"
   ]
  },
  {
   "cell_type": "code",
   "execution_count": 13,
   "metadata": {},
   "outputs": [],
   "source": [
    "from keras.models import Sequential\n",
    "from keras.layers import Dense, Dropout, SimpleRNN\n",
    "import pandas as pd\n",
    "import numpy as np\n",
    "import statsmodels.api as sm\n",
    "from sklearn.metrics import mean_squared_error\n",
    "import datetime\n",
    "from dateutil.rrule import rrule, MONTHLY\n",
    "from dateutil.relativedelta import relativedelta\n",
    "from keras.layers import BatchNormalization\n",
    "import random"
   ]
  },
  {
   "cell_type": "markdown",
   "metadata": {},
   "source": [
    "#### Abrimos la data con las variables de Precipitación (RR) y Temperatura Superficial del Mar (SST)"
   ]
  },
  {
   "cell_type": "code",
   "execution_count": 2,
   "metadata": {},
   "outputs": [],
   "source": [
    "BASE = pd.read_excel('DATA.xlsx', engine='openpyxl')\n",
    "BASE.Fecha = pd.to_datetime(BASE.Fecha)\n",
    "BASE  = BASE.set_index('Fecha')"
   ]
  },
  {
   "cell_type": "code",
   "execution_count": 10,
   "metadata": {},
   "outputs": [
    {
     "data": {
      "text/html": [
       "<div>\n",
       "<style scoped>\n",
       "    .dataframe tbody tr th:only-of-type {\n",
       "        vertical-align: middle;\n",
       "    }\n",
       "\n",
       "    .dataframe tbody tr th {\n",
       "        vertical-align: top;\n",
       "    }\n",
       "\n",
       "    .dataframe thead th {\n",
       "        text-align: right;\n",
       "    }\n",
       "</style>\n",
       "<table border=\"1\" class=\"dataframe\">\n",
       "  <thead>\n",
       "    <tr style=\"text-align: right;\">\n",
       "      <th></th>\n",
       "      <th>RR</th>\n",
       "      <th>SST</th>\n",
       "    </tr>\n",
       "  </thead>\n",
       "  <tbody>\n",
       "    <tr>\n",
       "      <th>count</th>\n",
       "      <td>1279.000000</td>\n",
       "      <td>1279.000000</td>\n",
       "    </tr>\n",
       "    <tr>\n",
       "      <th>mean</th>\n",
       "      <td>95.072150</td>\n",
       "      <td>21.291413</td>\n",
       "    </tr>\n",
       "    <tr>\n",
       "      <th>std</th>\n",
       "      <td>154.966247</td>\n",
       "      <td>2.303559</td>\n",
       "    </tr>\n",
       "    <tr>\n",
       "      <th>min</th>\n",
       "      <td>0.000000</td>\n",
       "      <td>16.677064</td>\n",
       "    </tr>\n",
       "    <tr>\n",
       "      <th>25%</th>\n",
       "      <td>0.000000</td>\n",
       "      <td>19.361422</td>\n",
       "    </tr>\n",
       "    <tr>\n",
       "      <th>50%</th>\n",
       "      <td>5.700000</td>\n",
       "      <td>20.959375</td>\n",
       "    </tr>\n",
       "    <tr>\n",
       "      <th>75%</th>\n",
       "      <td>145.400000</td>\n",
       "      <td>23.254537</td>\n",
       "    </tr>\n",
       "    <tr>\n",
       "      <th>max</th>\n",
       "      <td>1124.000000</td>\n",
       "      <td>28.074939</td>\n",
       "    </tr>\n",
       "  </tbody>\n",
       "</table>\n",
       "</div>"
      ],
      "text/plain": [
       "                RR          SST\n",
       "count  1279.000000  1279.000000\n",
       "mean     95.072150    21.291413\n",
       "std     154.966247     2.303559\n",
       "min       0.000000    16.677064\n",
       "25%       0.000000    19.361422\n",
       "50%       5.700000    20.959375\n",
       "75%     145.400000    23.254537\n",
       "max    1124.000000    28.074939"
      ]
     },
     "execution_count": 10,
     "metadata": {},
     "output_type": "execute_result"
    }
   ],
   "source": [
    "BASE.describe()"
   ]
  },
  {
   "cell_type": "markdown",
   "metadata": {},
   "source": [
    "#### Creamos el set de datos con las variables de SST desfasadas 12 meses, perdemos el primer año que es 1915"
   ]
  },
  {
   "cell_type": "code",
   "execution_count": 11,
   "metadata": {},
   "outputs": [
    {
     "data": {
      "text/plain": [
       "<bound method NDFrame.head of                    Xt       Xt-1       Xt-2       Xt-3       Xt-4       Xt-5  \\\n",
       "Fecha                                                                          \n",
       "1916-01-01  21.053894  19.707229  18.287647  18.569966  18.572922  19.462845   \n",
       "1916-02-01  22.599465  21.053894  19.707229  18.287647  18.569966  18.572922   \n",
       "1916-03-01  23.110899  22.599465  21.053894  19.707229  18.287647  18.569966   \n",
       "1916-04-01  21.392558  23.110899  22.599465  21.053894  19.707229  18.287647   \n",
       "1916-05-01  19.818617  21.392558  23.110899  22.599465  21.053894  19.707229   \n",
       "...               ...        ...        ...        ...        ...        ...   \n",
       "2021-03-01  23.945781  23.944501  22.324693  20.825978  19.380769  18.574843   \n",
       "2021-04-01  22.374807  23.945781  23.944501  22.324693  20.825978  19.380769   \n",
       "2021-05-01  21.562235  22.374807  23.945781  23.944501  22.324693  20.825978   \n",
       "2021-06-01  20.821750  21.562235  22.374807  23.945781  23.944501  22.324693   \n",
       "2021-07-01  19.908289  20.821750  21.562235  22.374807  23.945781  23.944501   \n",
       "\n",
       "                 Xt-6       Xt-7       Xt-8       Xt-9      Xt-10      Xt-11  \\\n",
       "Fecha                                                                          \n",
       "1916-01-01  20.583568  21.023367  21.270353  23.403187  24.509335  25.059683   \n",
       "1916-02-01  19.462845  20.583568  21.023367  21.270353  23.403187  24.509335   \n",
       "1916-03-01  18.572922  19.462845  20.583568  21.023367  21.270353  23.403187   \n",
       "1916-04-01  18.569966  18.572922  19.462845  20.583568  21.023367  21.270353   \n",
       "1916-05-01  18.287647  18.569966  18.572922  19.462845  20.583568  21.023367   \n",
       "...               ...        ...        ...        ...        ...        ...   \n",
       "2021-03-01  17.982353  18.266366  18.712703  20.484317  22.138791  23.945520   \n",
       "2021-04-01  18.574843  17.982353  18.266366  18.712703  20.484317  22.138791   \n",
       "2021-05-01  19.380769  18.574843  17.982353  18.266366  18.712703  20.484317   \n",
       "2021-06-01  20.825978  19.380769  18.574843  17.982353  18.266366  18.712703   \n",
       "2021-07-01  22.324693  20.825978  19.380769  18.574843  17.982353  18.266366   \n",
       "\n",
       "                Xt-12  \n",
       "Fecha                  \n",
       "1916-01-01  23.818490  \n",
       "1916-02-01  25.059683  \n",
       "1916-03-01  24.509335  \n",
       "1916-04-01  23.403187  \n",
       "1916-05-01  21.270353  \n",
       "...               ...  \n",
       "2021-03-01  25.084215  \n",
       "2021-04-01  23.945520  \n",
       "2021-05-01  22.138791  \n",
       "2021-06-01  20.484317  \n",
       "2021-07-01  18.712703  \n",
       "\n",
       "[1267 rows x 13 columns]>"
      ]
     },
     "execution_count": 11,
     "metadata": {},
     "output_type": "execute_result"
    }
   ],
   "source": [
    "S = pd.DataFrame(BASE.SST)\n",
    "S = S.rename(columns={'SST': \"Xt\"})\n",
    "S['Xt-1'] = BASE.SST.shift(1)\n",
    "S['Xt-2'] = BASE.SST.shift(2)\n",
    "S['Xt-3'] = BASE.SST.shift(3)\n",
    "S['Xt-4'] = BASE.SST.shift(4)\n",
    "S['Xt-5'] = BASE.SST.shift(5)\n",
    "S['Xt-6'] = BASE.SST.shift(6)\n",
    "S['Xt-7'] = BASE.SST.shift(7)\n",
    "S['Xt-8'] = BASE.SST.shift(8)\n",
    "S['Xt-9'] = BASE.SST.shift(9)\n",
    "S['Xt-10'] = BASE.SST.shift(10)\n",
    "S['Xt-11'] = BASE.SST.shift(11)\n",
    "S['Xt-12'] = BASE.SST.shift(12)\n",
    "S = S.dropna()\n",
    "S.head"
   ]
  },
  {
   "cell_type": "markdown",
   "metadata": {},
   "source": [
    "#### Definimos periodo de entrenamiento desde 1916 hasta 2019m y el periodo de prueba 2020 hasta 2021, recordar que necesita el modelo un objeto de dimension 3:\n",
    "\n",
    "* Dimension 1: El numero de observaciones que tienes\n",
    "* Dimension 2: El numero de pasos en el tiempo, solo dimos 1 paso por variable\n",
    "* Dimension 3: El numero de variables, tenemos 12 entradas\n",
    "\n",
    "#### El modelo RNN requiere datos de entrada tridimensionales, por tanto rescalamos las dimensiones de entradas"
   ]
  },
  {
   "cell_type": "code",
   "execution_count": 12,
   "metadata": {},
   "outputs": [],
   "source": [
    "Y_TRAIN = np.array(BASE[(BASE.index <= '2019-12-01') & (BASE.index  >= min(S.index))][\"RR\"])\n",
    "X_TRAIN = np.array(S[S.index <= '2019-12-01'].drop(\"Xt\", axis=1))\n",
    "X_TRAIN = X_TRAIN.reshape(len(X_TRAIN), 1, X_TRAIN.shape[1])\n",
    "\n",
    "Y_TEST  = np.array(BASE[BASE.index > '2019-12-01'][\"RR\"])\n",
    "X_TEST  = np.array(S[S.index > '2019-12-01'].drop(\"Xt\", axis=1))\n",
    "X_TEST  = X_TEST.reshape(len(X_TEST), 1, X_TEST.shape[1])"
   ]
  },
  {
   "cell_type": "markdown",
   "metadata": {},
   "source": [
    "#### Definimos la arquitectura del modelo:\n",
    "* Un modelo de 2 capas recurrentes apiladas, cada una con 128 celdas de memoria, obteniendo una Red Neuronal profunda enrolada a través del tiempo.\n",
    "* De forma predeterminada, las capas recurrentes en Keras solo devuelven el resultado final. Para que devuelvan una salida por paso de tiempo, debe configurar return_sequences = True\n",
    "* La forma del tamaño del modelo es una tupla de tamaño 2, 1 paso de tiempo sucesivo para las 12 variables de entrada desfasadas\n",
    "* Función de activación Relu, para un RNN simple con series de tiempo cortas, no debería haber nada malo en trabajar con la activación de ReLU, abordando la posibilidad de desvanecimiento del gradiente durante el entrenamiento.\n",
    "* Sería preferible reemplazar la capa de salida con una capa Densa, se ejecutaría un poco más rápido, la precisión sería aproximadamente la misma y nos permitiría elegir cualquier remover return_sequence = True de la segunda capa recurrente.\n",
    "* Agregamos 4 capas ocultas, con 64 neuronas la primera, 32 la segunda, 16 la tercera, y 1 neurona la última. La última solo estudiara 1 salida para el pronóstico. \n",
    "* Agregamos el método dropout para desactivar el 90% de las neuronas hasta la penúltima capa densa que solo tiene 16, ayudando a reducir el overfitting, para perder la dependencia entre los patrones encontrados por las neuronas cercanas.\n",
    "* Agregamos el método de normalización, para evitar que existan distancias muy diferentes entre el modelo y el observado. Transforma los predictores para que estén aproximadamente en la misma escala. BatchNormalization después de nuestra primer cada Densa tomara lo aprendido en la primera capa oculta.\n",
    "* El modelo se ajusta con el error cuadrático medio, el descenso del gradiente se compila con el algoritmo Adam, para mantener los pesos a una tasa de aprendizaje única, sin cambiar la tasa de aprendizaje en el proceso de entrenamiento, Adam diseña tasa de aprendizaje adaptativos independientes para los diferentes parámetros.\n",
    "* La última capa densa con una salida lineal, se compila con la función de costo que se encarga de cuantificar la distancia entre el valor real y el valor predicho por la red a través del error cuadrático medio, con un loss = mse, para ajustar una perdida decreciente y una precisión en aumento.\n",
    "* 100 épocas, es el número de veces que el modelo ve cada ejemplo de entrenamiento, y un 20 % de porcentajes de las muestras que el modelo usa en cada iteración para comprobar los resultados en lo entrenado.\n",
    "* Fijamos una semilla para poder tener el mismo resultado calibrado cuando pasemos a producción."
   ]
  },
  {
   "cell_type": "code",
   "execution_count": 14,
   "metadata": {},
   "outputs": [
    {
     "name": "stdout",
     "output_type": "stream",
     "text": [
      "Epoch 1/100\n",
      "13/13 - 21s - loss: 33656.5312 - val_loss: 29957.8281\n",
      "Epoch 2/100\n",
      "13/13 - 0s - loss: 33173.0703 - val_loss: 29690.9980\n",
      "Epoch 3/100\n",
      "13/13 - 0s - loss: 32819.9258 - val_loss: 29434.1953\n",
      "Epoch 4/100\n",
      "13/13 - 0s - loss: 32431.5898 - val_loss: 29339.8477\n",
      "Epoch 5/100\n",
      "13/13 - 0s - loss: 32012.9688 - val_loss: 29145.6973\n",
      "Epoch 6/100\n",
      "13/13 - 0s - loss: 31589.8730 - val_loss: 29018.4219\n",
      "Epoch 7/100\n",
      "13/13 - 0s - loss: 31092.7773 - val_loss: 28761.8320\n",
      "Epoch 8/100\n",
      "13/13 - 0s - loss: 30641.3809 - val_loss: 28638.6309\n",
      "Epoch 9/100\n",
      "13/13 - 0s - loss: 29816.6875 - val_loss: 27078.8027\n",
      "Epoch 10/100\n",
      "13/13 - 0s - loss: 29059.1484 - val_loss: 28776.4414\n",
      "Epoch 11/100\n",
      "13/13 - 0s - loss: 28186.8730 - val_loss: 25692.3574\n",
      "Epoch 12/100\n",
      "13/13 - 0s - loss: 27215.2070 - val_loss: 25507.2676\n",
      "Epoch 13/100\n",
      "13/13 - 0s - loss: 26190.0469 - val_loss: 23013.6074\n",
      "Epoch 14/100\n",
      "13/13 - 0s - loss: 25131.5996 - val_loss: 23041.4336\n",
      "Epoch 15/100\n",
      "13/13 - 0s - loss: 23906.3047 - val_loss: 24407.2441\n",
      "Epoch 16/100\n",
      "13/13 - 0s - loss: 22835.9355 - val_loss: 23214.4102\n",
      "Epoch 17/100\n",
      "13/13 - 0s - loss: 21553.9180 - val_loss: 16519.6270\n",
      "Epoch 18/100\n",
      "13/13 - 0s - loss: 20643.3105 - val_loss: 18885.6113\n",
      "Epoch 19/100\n",
      "13/13 - 0s - loss: 19089.5391 - val_loss: 24806.3516\n",
      "Epoch 20/100\n",
      "13/13 - 0s - loss: 18505.7695 - val_loss: 14548.7324\n",
      "Epoch 21/100\n",
      "13/13 - 0s - loss: 17221.3418 - val_loss: 13714.6738\n",
      "Epoch 22/100\n",
      "13/13 - 0s - loss: 16539.9941 - val_loss: 20532.3145\n",
      "Epoch 23/100\n",
      "13/13 - 0s - loss: 15878.0547 - val_loss: 19504.9922\n",
      "Epoch 24/100\n",
      "13/13 - 0s - loss: 16219.3896 - val_loss: 10834.8818\n",
      "Epoch 25/100\n",
      "13/13 - 0s - loss: 14808.1904 - val_loss: 14197.8428\n",
      "Epoch 26/100\n",
      "13/13 - 0s - loss: 14444.6494 - val_loss: 15744.2783\n",
      "Epoch 27/100\n",
      "13/13 - 0s - loss: 13357.8350 - val_loss: 20753.1562\n",
      "Epoch 28/100\n",
      "13/13 - 0s - loss: 13070.6250 - val_loss: 15491.9854\n",
      "Epoch 29/100\n",
      "13/13 - 0s - loss: 12971.9248 - val_loss: 9125.3359\n",
      "Epoch 30/100\n",
      "13/13 - 0s - loss: 12809.5605 - val_loss: 7897.9995\n",
      "Epoch 31/100\n",
      "13/13 - 0s - loss: 13081.8008 - val_loss: 8007.7988\n",
      "Epoch 32/100\n",
      "13/13 - 0s - loss: 12538.3486 - val_loss: 11340.2373\n",
      "Epoch 33/100\n",
      "13/13 - 0s - loss: 12369.4004 - val_loss: 17962.4219\n",
      "Epoch 34/100\n",
      "13/13 - 0s - loss: 11827.8242 - val_loss: 8990.9414\n",
      "Epoch 35/100\n",
      "13/13 - 0s - loss: 12298.1797 - val_loss: 8704.3311\n",
      "Epoch 36/100\n",
      "13/13 - 0s - loss: 12077.0879 - val_loss: 11600.7344\n",
      "Epoch 37/100\n",
      "13/13 - 0s - loss: 12655.0654 - val_loss: 8436.6514\n",
      "Epoch 38/100\n",
      "13/13 - 0s - loss: 11634.7373 - val_loss: 14447.5879\n",
      "Epoch 39/100\n",
      "13/13 - 0s - loss: 12497.3516 - val_loss: 7373.6206\n",
      "Epoch 40/100\n",
      "13/13 - 0s - loss: 11638.1836 - val_loss: 8272.4453\n",
      "Epoch 41/100\n",
      "13/13 - 0s - loss: 12392.9033 - val_loss: 14270.3779\n",
      "Epoch 42/100\n",
      "13/13 - 0s - loss: 12423.6016 - val_loss: 25357.9375\n",
      "Epoch 43/100\n",
      "13/13 - 0s - loss: 11597.5693 - val_loss: 11159.9277\n",
      "Epoch 44/100\n",
      "13/13 - 0s - loss: 11900.5732 - val_loss: 12035.4648\n",
      "Epoch 45/100\n",
      "13/13 - 0s - loss: 11613.6670 - val_loss: 10912.4062\n",
      "Epoch 46/100\n",
      "13/13 - 0s - loss: 11462.2031 - val_loss: 12938.3330\n",
      "Epoch 47/100\n",
      "13/13 - 0s - loss: 11732.1982 - val_loss: 9319.0361\n",
      "Epoch 48/100\n",
      "13/13 - 0s - loss: 11797.7012 - val_loss: 14240.5479\n",
      "Epoch 49/100\n",
      "13/13 - 0s - loss: 11243.5244 - val_loss: 17593.0352\n",
      "Epoch 50/100\n",
      "13/13 - 0s - loss: 12064.7617 - val_loss: 13590.1191\n",
      "Epoch 51/100\n",
      "13/13 - 0s - loss: 11988.7646 - val_loss: 12497.6006\n",
      "Epoch 52/100\n",
      "13/13 - 0s - loss: 11976.3311 - val_loss: 9091.5410\n",
      "Epoch 53/100\n",
      "13/13 - 0s - loss: 12083.7979 - val_loss: 9960.7979\n",
      "Epoch 54/100\n",
      "13/13 - 0s - loss: 11386.7627 - val_loss: 8901.8945\n",
      "Epoch 55/100\n",
      "13/13 - 0s - loss: 11957.1982 - val_loss: 8730.2822\n",
      "Epoch 56/100\n",
      "13/13 - 0s - loss: 12086.5967 - val_loss: 13088.9160\n",
      "Epoch 57/100\n",
      "13/13 - 0s - loss: 12225.9834 - val_loss: 8133.2075\n",
      "Epoch 58/100\n",
      "13/13 - 0s - loss: 11534.2090 - val_loss: 11901.6523\n",
      "Epoch 59/100\n",
      "13/13 - 0s - loss: 10893.1270 - val_loss: 8710.8193\n",
      "Epoch 60/100\n",
      "13/13 - 0s - loss: 11344.5049 - val_loss: 11383.3018\n",
      "Epoch 61/100\n",
      "13/13 - 0s - loss: 12335.4053 - val_loss: 11459.0264\n",
      "Epoch 62/100\n",
      "13/13 - 0s - loss: 11810.1660 - val_loss: 14790.8760\n",
      "Epoch 63/100\n",
      "13/13 - 0s - loss: 11811.6240 - val_loss: 11397.9531\n",
      "Epoch 64/100\n",
      "13/13 - 0s - loss: 11983.1260 - val_loss: 8224.6953\n",
      "Epoch 65/100\n",
      "13/13 - 0s - loss: 10880.5459 - val_loss: 7902.6758\n",
      "Epoch 66/100\n",
      "13/13 - 0s - loss: 10999.6699 - val_loss: 15843.0410\n",
      "Epoch 67/100\n",
      "13/13 - 0s - loss: 11327.3848 - val_loss: 10985.2227\n",
      "Epoch 68/100\n",
      "13/13 - 0s - loss: 12135.8555 - val_loss: 7914.4844\n",
      "Epoch 69/100\n",
      "13/13 - 0s - loss: 12700.3877 - val_loss: 11923.9336\n",
      "Epoch 70/100\n",
      "13/13 - 0s - loss: 11538.4121 - val_loss: 8314.3291\n",
      "Epoch 71/100\n",
      "13/13 - 0s - loss: 10885.3564 - val_loss: 8165.2900\n",
      "Epoch 72/100\n",
      "13/13 - 0s - loss: 11215.4385 - val_loss: 8120.2783\n",
      "Epoch 73/100\n",
      "13/13 - 0s - loss: 10275.2363 - val_loss: 17514.4883\n",
      "Epoch 74/100\n",
      "13/13 - 0s - loss: 11367.2373 - val_loss: 7555.6318\n",
      "Epoch 75/100\n",
      "13/13 - 0s - loss: 11131.3730 - val_loss: 12955.5352\n",
      "Epoch 76/100\n",
      "13/13 - 0s - loss: 11232.3516 - val_loss: 9549.4951\n",
      "Epoch 77/100\n",
      "13/13 - 0s - loss: 11770.3545 - val_loss: 9146.9053\n",
      "Epoch 78/100\n",
      "13/13 - 0s - loss: 11178.6914 - val_loss: 10225.1963\n",
      "Epoch 79/100\n",
      "13/13 - 0s - loss: 11121.8135 - val_loss: 8792.9141\n",
      "Epoch 80/100\n",
      "13/13 - 0s - loss: 11393.6396 - val_loss: 18926.5430\n",
      "Epoch 81/100\n",
      "13/13 - 0s - loss: 11704.8428 - val_loss: 11381.3076\n",
      "Epoch 82/100\n",
      "13/13 - 0s - loss: 11082.3340 - val_loss: 9562.1650\n",
      "Epoch 83/100\n",
      "13/13 - 0s - loss: 11664.4385 - val_loss: 18226.1426\n",
      "Epoch 84/100\n",
      "13/13 - 0s - loss: 10963.9922 - val_loss: 7850.7715\n",
      "Epoch 85/100\n",
      "13/13 - 0s - loss: 10877.8262 - val_loss: 12866.1416\n",
      "Epoch 86/100\n",
      "13/13 - 0s - loss: 10878.9072 - val_loss: 10217.8105\n",
      "Epoch 87/100\n",
      "13/13 - 0s - loss: 10772.4717 - val_loss: 17370.1777\n",
      "Epoch 88/100\n",
      "13/13 - 0s - loss: 10509.2207 - val_loss: 7866.8843\n",
      "Epoch 89/100\n",
      "13/13 - 0s - loss: 11203.7480 - val_loss: 10188.6641\n",
      "Epoch 90/100\n",
      "13/13 - 0s - loss: 11019.2578 - val_loss: 10301.3018\n",
      "Epoch 91/100\n",
      "13/13 - 0s - loss: 11121.6396 - val_loss: 8306.1621\n",
      "Epoch 92/100\n",
      "13/13 - 0s - loss: 10526.4336 - val_loss: 9630.4023\n",
      "Epoch 93/100\n",
      "13/13 - 0s - loss: 10542.4570 - val_loss: 8243.2061\n",
      "Epoch 94/100\n",
      "13/13 - 0s - loss: 10658.1123 - val_loss: 13591.9404\n",
      "Epoch 95/100\n",
      "13/13 - 0s - loss: 11921.4141 - val_loss: 11844.4961\n",
      "Epoch 96/100\n",
      "13/13 - 0s - loss: 11120.3408 - val_loss: 9913.4668\n",
      "Epoch 97/100\n",
      "13/13 - 0s - loss: 11206.1992 - val_loss: 7860.1587\n",
      "Epoch 98/100\n",
      "13/13 - 0s - loss: 11140.5029 - val_loss: 8967.2451\n",
      "Epoch 99/100\n",
      "13/13 - 0s - loss: 11136.8096 - val_loss: 9216.4863\n",
      "Epoch 100/100\n",
      "13/13 - 0s - loss: 10754.8682 - val_loss: 8031.9053\n"
     ]
    },
    {
     "data": {
      "text/plain": [
       "<keras.callbacks.History at 0x1de3bef2e20>"
      ]
     },
     "execution_count": 14,
     "metadata": {},
     "output_type": "execute_result"
    }
   ],
   "source": [
    "random.seed(-100.9)\n",
    "model = Sequential()\n",
    "model.add(SimpleRNN(128, return_sequences=True, input_shape = (X_TRAIN.shape[1:])))\n",
    "model.add(SimpleRNN(128, activation = 'relu'))\n",
    "model.add(Dropout(0.1))\n",
    "model.add(Dense(64, activation = 'relu'))\n",
    "model.add(BatchNormalization())\n",
    "model.add(Dropout(0.1))\n",
    "model.add(Dense(32, activation = 'relu'))\n",
    "model.add(BatchNormalization())\n",
    "model.add(Dropout(0.1))\n",
    "model.add(Dense(16, activation = 'relu'))\n",
    "model.add(Dense(1, activation = 'linear'))\n",
    "model.compile(loss = 'mse',optimizer = 'adam')\n",
    "model.fit(X_TRAIN, Y_TRAIN, epochs=100, batch_size=80, verbose=2, validation_split = 0.2)"
   ]
  },
  {
   "cell_type": "code",
   "execution_count": 30,
   "metadata": {},
   "outputs": [
    {
     "data": {
      "text/plain": [
       "<AxesSubplot:xlabel='Fecha'>"
      ]
     },
     "execution_count": 30,
     "metadata": {},
     "output_type": "execute_result"
    },
    {
     "data": {
      "image/png": "[encoded data removed]",
      "text/plain": [
       "<Figure size 432x288 with 1 Axes>"
      ]
     },
     "metadata": {
      "needs_background": "light"
     },
     "output_type": "display_data"
    }
   ],
   "source": [
    "n_features = X_TRAIN.shape[2]\n",
    "TRAIN = pd.DataFrame(BASE.iloc[n_features:(X_TRAIN.shape[0]+n_features)]['RR'])\n",
    "TRAIN[\"Model\"] = model.predict(X_TRAIN)\n",
    "TRAIN.plot.line()"
   ]
  },
  {
   "cell_type": "code",
   "execution_count": 31,
   "metadata": {},
   "outputs": [
    {
     "name": "stdout",
     "output_type": "stream",
     "text": [
      "Coeficiente de Determinación Training: 0.7\n"
     ]
    }
   ],
   "source": [
    "print('Coeficiente de Determinación Training:',round(sm.OLS(TRAIN['RR'], TRAIN['Model']).fit().rsquared_adj,2))"
   ]
  },
  {
   "cell_type": "code",
   "execution_count": 32,
   "metadata": {},
   "outputs": [
    {
     "name": "stdout",
     "output_type": "stream",
     "text": [
      "Error Cuadrático Medio Training:  10325.0\n"
     ]
    }
   ],
   "source": [
    "print('Error Cuadrático Medio Training: ',round(mean_squared_error(TRAIN['RR'], TRAIN['Model']),0))"
   ]
  },
  {
   "cell_type": "code",
   "execution_count": 20,
   "metadata": {},
   "outputs": [
    {
     "data": {
      "text/plain": [
       "<AxesSubplot:xlabel='Fecha'>"
      ]
     },
     "execution_count": 20,
     "metadata": {},
     "output_type": "execute_result"
    },
    {
     "data": {
      "image/png": "[encoded data removed]",
      "text/plain": [
       "<Figure size 432x288 with 1 Axes>"
      ]
     },
     "metadata": {
      "needs_background": "light"
     },
     "output_type": "display_data"
    }
   ],
   "source": [
    "TEST = pd.DataFrame(BASE.iloc[(X_TRAIN.shape[0]+12):BASE.shape[0]]['RR'])\n",
    "TEST[\"Pred\"] = model.predict(X_TEST)\n",
    "TEST.plot.line()"
   ]
  },
  {
   "cell_type": "code",
   "execution_count": null,
   "metadata": {},
   "outputs": [],
   "source": []
  },
  {
   "cell_type": "code",
   "execution_count": 27,
   "metadata": {},
   "outputs": [
    {
     "name": "stdout",
     "output_type": "stream",
     "text": [
      "Coeficiente de Determinación Testing:  0.78\n"
     ]
    }
   ],
   "source": [
    "print('Coeficiente de Determinación Testing: ', round(sm.OLS(TEST['RR'], TEST['Pred']).fit().rsquared_adj,2))"
   ]
  },
  {
   "cell_type": "code",
   "execution_count": 29,
   "metadata": {},
   "outputs": [
    {
     "name": "stdout",
     "output_type": "stream",
     "text": [
      "Error Cuadrático Medio Testing:  6950.0\n"
     ]
    }
   ],
   "source": [
    "print('Error Cuadrático Medio Testing: ', round(mean_squared_error(TEST['RR'], TEST['Pred']),0))"
   ]
  }
 ],
 "metadata": {
  "kernelspec": {
   "display_name": "Python 3",
   "language": "python",
   "name": "python3"
  },
  "language_info": {
   "codemirror_mode": {
    "name": "ipython",
    "version": 3
   },
   "file_extension": ".py",
   "mimetype": "text/x-python",
   "name": "python",
   "nbconvert_exporter": "python",
   "pygments_lexer": "ipython3",
   "version": "3.8.5"
  }
 },
 "nbformat": 4,
 "nbformat_minor": 4
}
